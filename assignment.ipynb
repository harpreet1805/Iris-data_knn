{
 "cells": [
  {
   "cell_type": "code",
   "execution_count": null,
   "metadata": {},
   "outputs": [],
   "source": [
    "import numpy as np\n",
    "import pandas as pd\n",
    "from sklearn import datasets\n",
    "from scipy import stats\n",
    "from sklearn.model_selection import train_test_split\n",
    "import matplotlib.pyplot as plt\n",
    "%matplotlib inline\n",
    "np.random.seed(2019)\n",
    "iris=datasets.load_iris()\n",
    "x=iris.data\n",
    "y=iris.target\n",
    "X_train,X_test,y_train,y_test=train_test_split(x,y,test_size=0.4,stratify=y)\n",
    "print(y_train)\n"
   ]
  },
  {
   "cell_type": "code",
   "execution_count": null,
   "metadata": {},
   "outputs": [],
   "source": [
    "np.shape(y_train)"
   ]
  },
  {
   "cell_type": "code",
   "execution_count": null,
   "metadata": {},
   "outputs": [],
   "source": [
    "\n",
    "accuracy=[]\n",
    "k=[1,3,5,7,9,11,13,15,17,19,23,25]\n",
    "for value in k:\n",
    "    dist=[]\n",
    "    ypred=[]\n",
    "    for i in range(len(X_test)):\n",
    "        t=np.linalg.norm(X_train-X_test[i],axis=1)\n",
    "        minikneighour=y_train[t.argsort()[:value]]\n",
    "        neighour=list(minikneighour)\n",
    "        #print(neighour)\n",
    "        sum_of_two=(neighour.count(2))\n",
    "        sum_of_ones=(neighour.count(1))\n",
    "        sum_of_zeros=(neighour.count(0))\n",
    "        \n",
    "        #print(sum_of_two)\n",
    "        if (sum_of_two>sum_of_ones and sum_of_two>sum_of_zeros):\n",
    "            ypred.append(2)\n",
    "        elif(sum_of_ones>sum_of_two and sum_of_ones>sum_of_zeros):\n",
    "            ypred.append(1)\n",
    "        elif(sum_of_zeros>sum_of_two and sum_of_zeros>sum_of_ones):\n",
    "            ypred.append(0)\n",
    "        #print(ypred)\n",
    "    accuracy.append(np.sum(ypred-y_test==0)/100)\n",
    "print(accuracy)\n",
    "plt.plot(k,accuracy)\n",
    "    \n",
    "        \n",
    "        \n",
    "        "
   ]
  }
 ],
 "metadata": {
  "kernelspec": {
   "display_name": "Python 3",
   "language": "python",
   "name": "python3"
  },
  "language_info": {
   "codemirror_mode": {
    "name": "ipython",
    "version": 3
   },
   "file_extension": ".py",
   "mimetype": "text/x-python",
   "name": "python",
   "nbconvert_exporter": "python",
   "pygments_lexer": "ipython3",
   "version": "3.6.5"
  }
 },
 "nbformat": 4,
 "nbformat_minor": 2
}
